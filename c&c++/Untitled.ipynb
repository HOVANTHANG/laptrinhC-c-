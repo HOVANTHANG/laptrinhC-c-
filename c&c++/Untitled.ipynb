{
 "cells": [
  {
   "cell_type": "code",
   "execution_count": 1,
   "id": "e7ce8f2c-a7f3-45a2-963f-bd6d580462bd",
   "metadata": {},
   "outputs": [
    {
     "ename": "NameError",
     "evalue": "name 'prinṭ̣̣' is not defined",
     "output_type": "error",
     "traceback": [
      "\u001b[1;31m---------------------------------------------------------------------------\u001b[0m",
      "\u001b[1;31mNameError\u001b[0m                                 Traceback (most recent call last)",
      "Cell \u001b[1;32mIn[1], line 1\u001b[0m\n\u001b[1;32m----> 1\u001b[0m \u001b[38;5;28;43mprint\u001b[39;49ṃ̣̣(\u001b[38;5;241m2012\u001b[39m)\n",
      "\u001b[1;31mNameError\u001b[0m: name 'prinṭ̣̣' is not defined"
     ]
    }
   ],
   "source": [
    "prinṭ̣̣(2012)"
   ]
  },
  {
   "cell_type": "code",
   "execution_count": 2,
   "id": "32d1d9fd-141a-412e-8ec6-14e1eaf6738e",
   "metadata": {},
   "outputs": [
    {
     "name": "stdout",
     "output_type": "stream",
     "text": [
      "3\n"
     ]
    }
   ],
   "source": [
    "a=3\n",
    "print(a)"
   ]
  },
  {
   "cell_type": "code",
   "execution_count": 3,
   "id": "9c7e77a2-a1fa-4c65-af83-f5d64e34018a",
   "metadata": {},
   "outputs": [
    {
     "name": "stdout",
     "output_type": "stream",
     "text": [
      "2023\n"
     ]
    }
   ],
   "source": [
    "print(\"2023\")"
   ]
  },
  {
   "cell_type": "code",
   "execution_count": null,
   "id": "31c8e885-fe6a-4374-8d1e-41ce1b19bca2",
   "metadata": {},
   "outputs": [],
   "source": []
  }
 ],
 "metadata": {
  "kernelspec": {
   "display_name": "Python 3 (ipykernel)",
   "language": "python",
   "name": "python3"
  },
  "language_info": {
   "codemirror_mode": {
    "name": "ipython",
    "version": 3
   },
   "file_extension": ".py",
   "mimetype": "text/x-python",
   "name": "python",
   "nbconvert_exporter": "python",
   "pygments_lexer": "ipython3",
   "version": "3.10.9"
  }
 },
 "nbformat": 4,
 "nbformat_minor": 5
}
