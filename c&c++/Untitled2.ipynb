{
 "cells": [
  {
   "cell_type": "code",
   "execution_count": 7,
   "id": "c4666e9c",
   "metadata": {},
   "outputs": [],
   "source": [
    "class Ngay:\n",
    "    def __init__(self,ngay,thang,nam):\n",
    "        self.ngay=ngay\n",
    "        self.thang=thang\n",
    "        self.nam=nam\n",
    "    @staticmethod\n",
    "    def songaytrongThang(thang,nam):\n",
    "        if(thang in [1,3,5,7,8,10,12]):\n",
    "            return 31\n",
    "        elif(thang in [4,6,9,11]):\n",
    "            return 30\n",
    "        elif (thang==2):\n",
    "         if(nam%400 or (nam%4==0 and nam%100!=0)):\n",
    "            return 29\n",
    "         else :\n",
    "            return 28\n",
    "            \n",
    "    def songaytrongNam(self):\n",
    "        giatri=self.ngay\n",
    "        for x in range(1,self.thang):\n",
    "            giatri+=self.songaytrongThang(x,self.nam)\n",
    "        \n",
    "        return giatri\n",
    "    \n",
    "        \n",
    "      \n",
    "    "
   ]
  },
  {
   "cell_type": "code",
   "execution_count": 8,
   "id": "0d4ecdc5",
   "metadata": {},
   "outputs": [
    {
     "name": "stdout",
     "output_type": "stream",
     "text": [
      "174\n"
     ]
    }
   ],
   "source": [
    "ngay1 = Ngay(22,6,2004)\n",
    "print(ngay1.songaytrongNam())"
   ]
  },
  {
   "cell_type": "code",
   "execution_count": null,
   "id": "d1334320",
   "metadata": {},
   "outputs": [],
   "source": []
  }
 ],
 "metadata": {
  "kernelspec": {
   "display_name": "Python 3 (ipykernel)",
   "language": "python",
   "name": "python3"
  },
  "language_info": {
   "codemirror_mode": {
    "name": "ipython",
    "version": 3
   },
   "file_extension": ".py",
   "mimetype": "text/x-python",
   "name": "python",
   "nbconvert_exporter": "python",
   "pygments_lexer": "ipython3",
   "version": "3.10.9"
  }
 },
 "nbformat": 4,
 "nbformat_minor": 5
}
